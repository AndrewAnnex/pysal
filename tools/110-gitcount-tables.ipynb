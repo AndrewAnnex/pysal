{
 "cells": [
  {
   "cell_type": "markdown",
   "metadata": {},
   "source": [
    "## PySAL Change Log Statistics: Table Generation\n",
    "\n",
    "This notebook generates the summary statistics for use in the 6-month releases of PySAL, which is now a meta package. \n",
    "\n",
    "It assumes the subpackages have been git cloned in a directory below the location of this notebook. It also requires network connectivity for some of the reporting.\n",
    "\n",
    "Run this notebook after `100-gitcount.ipynb`\n"
   ]
  },
  {
   "cell_type": "code",
   "execution_count": 1,
   "metadata": {},
   "outputs": [],
   "source": [
    "from __future__ import print_function\n",
    "import os\n",
    "import json\n",
    "import re\n",
    "import sys\n",
    "import pandas\n",
    "import subprocess\n",
    "from subprocess import check_output\n",
    "\n",
    "#import yaml\n",
    "from datetime import datetime, timedelta\n",
    "\n",
    "from dateutil.parser import parse\n",
    "import pytz\n",
    "\n",
    "utc=pytz.UTC\n",
    "\n",
    "try:\n",
    "    from urllib import urlopen\n",
    "except:\n",
    "    from urllib.request import urlopen\n",
    "\n",
    "\n"
   ]
  },
  {
   "cell_type": "code",
   "execution_count": 2,
   "metadata": {},
   "outputs": [],
   "source": [
    "PYSAL_RELEASE = '2020-07-27'\n",
    "release_date = datetime.strptime(PYSAL_RELEASE+\" 0:0:0\", \"%Y-%m-%d %H:%M:%S\")"
   ]
  },
  {
   "cell_type": "code",
   "execution_count": 3,
   "metadata": {},
   "outputs": [
    {
     "data": {
      "text/plain": [
       "datetime.datetime(2020, 7, 27, 0, 0)"
      ]
     },
     "execution_count": 3,
     "metadata": {},
     "output_type": "execute_result"
    }
   ],
   "source": [
    "release_date"
   ]
  },
  {
   "cell_type": "code",
   "execution_count": 4,
   "metadata": {},
   "outputs": [],
   "source": [
    "CWD = os.path.abspath(os.path.curdir)"
   ]
  },
  {
   "cell_type": "code",
   "execution_count": 5,
   "metadata": {},
   "outputs": [
    {
     "data": {
      "text/plain": [
       "'/home/serge/Dropbox/p/pysal/src/pysal/tools'"
      ]
     },
     "execution_count": 5,
     "metadata": {},
     "output_type": "execute_result"
    }
   ],
   "source": [
    "CWD"
   ]
  },
  {
   "cell_type": "code",
   "execution_count": 6,
   "metadata": {},
   "outputs": [
    {
     "data": {
      "text/plain": [
       "datetime.datetime(2020, 2, 9, 0, 0)"
      ]
     },
     "execution_count": 6,
     "metadata": {},
     "output_type": "execute_result"
    }
   ],
   "source": [
    "start_date = '2020-02-09'\n",
    "since_date = '--since=\"{start}\"'.format(start=start_date)\n",
    "since_date\n",
    "since = datetime.strptime(start_date+\" 0:0:0\", \"%Y-%m-%d %H:%M:%S\")\n",
    "since"
   ]
  },
  {
   "cell_type": "code",
   "execution_count": 7,
   "metadata": {},
   "outputs": [],
   "source": [
    "with open('package_versions.txt', 'r') as package_list:\n",
    "    packages = dict([line.strip().split() for line in package_list.readlines()])"
   ]
  },
  {
   "cell_type": "code",
   "execution_count": 8,
   "metadata": {},
   "outputs": [
    {
     "data": {
      "text/plain": [
       "{'libpysal': '4.3.0',\n",
       " 'access': '1.1.1',\n",
       " 'esda': '2.3.1',\n",
       " 'giddy': '2.3.3',\n",
       " 'inequality': '1.0.0',\n",
       " 'pointpats': '2.2.0',\n",
       " 'segregation': '1.3.0',\n",
       " 'spaghetti': '1.5.0',\n",
       " 'mgwr': '2.1.1',\n",
       " 'spglm': '1.0.7',\n",
       " 'spint': '1.0.6',\n",
       " 'spreg': '1.1.1',\n",
       " 'spvcm': '0.3.0',\n",
       " 'tobler': '0.3.1',\n",
       " 'mapclassify': '2.3.0',\n",
       " 'splot': '1.1.3'}"
      ]
     },
     "execution_count": 8,
     "metadata": {},
     "output_type": "execute_result"
    }
   ],
   "source": [
    "packages"
   ]
  },
  {
   "cell_type": "code",
   "execution_count": 9,
   "metadata": {},
   "outputs": [],
   "source": [
    "import pickle"
   ]
  },
  {
   "cell_type": "code",
   "execution_count": 10,
   "metadata": {},
   "outputs": [],
   "source": [
    "issues_closed = pickle.load(open(\"issues_closed.p\", 'rb'))\n",
    "pulls_closed = pickle.load(open('pulls_closed.p', 'rb'))"
   ]
  },
  {
   "cell_type": "code",
   "execution_count": 11,
   "metadata": {},
   "outputs": [
    {
     "data": {
      "text/plain": [
       "dict"
      ]
     },
     "execution_count": 11,
     "metadata": {},
     "output_type": "execute_result"
    }
   ],
   "source": [
    "type(issues_closed)"
   ]
  },
  {
   "cell_type": "code",
   "execution_count": 12,
   "metadata": {},
   "outputs": [
    {
     "data": {
      "text/plain": [
       "dict_keys(['libpysal', 'access', 'esda', 'giddy', 'inequality', 'pointpats', 'segregation', 'spaghetti', 'mgwr', 'spglm', 'spint', 'spreg', 'spvcm', 'tobler', 'mapclassify', 'splot', 'pysal'])"
      ]
     },
     "execution_count": 12,
     "metadata": {},
     "output_type": "execute_result"
    }
   ],
   "source": [
    "issues_closed.keys()"
   ]
  },
  {
   "cell_type": "code",
   "execution_count": 13,
   "metadata": {},
   "outputs": [],
   "source": [
    "from release_info import get_pypi_info, get_github_info, clone_masters"
   ]
  },
  {
   "cell_type": "code",
   "execution_count": 14,
   "metadata": {},
   "outputs": [
    {
     "name": "stdout",
     "output_type": "stream",
     "text": [
      "libpysal 4.3.0\n",
      "git clone --branch master https://github.com/pysal/libpysal.git tmp/libpysal\n",
      "access 1.1.1\n",
      "git clone --branch master https://github.com/pysal/access.git tmp/access\n",
      "esda 2.3.1\n",
      "git clone --branch master https://github.com/pysal/esda.git tmp/esda\n",
      "giddy 2.3.3\n",
      "git clone --branch master https://github.com/pysal/giddy.git tmp/giddy\n",
      "inequality 1.0.0\n",
      "git clone --branch master https://github.com/pysal/inequality.git tmp/inequality\n",
      "pointpats 2.2.0\n",
      "git clone --branch master https://github.com/pysal/pointpats.git tmp/pointpats\n",
      "segregation 1.3.0\n",
      "git clone --branch master https://github.com/pysal/segregation.git tmp/segregation\n",
      "spaghetti 1.5.0\n",
      "git clone --branch master https://github.com/pysal/spaghetti.git tmp/spaghetti\n",
      "mgwr 2.1.1\n",
      "git clone --branch master https://github.com/pysal/mgwr.git tmp/mgwr\n",
      "spglm 1.0.7\n",
      "git clone --branch master https://github.com/pysal/spglm.git tmp/spglm\n",
      "spint 1.0.6\n",
      "git clone --branch master https://github.com/pysal/spint.git tmp/spint\n",
      "spreg 1.1.1\n",
      "git clone --branch master https://github.com/pysal/spreg.git tmp/spreg\n",
      "spvcm 0.3.0\n",
      "git clone --branch master https://github.com/pysal/spvcm.git tmp/spvcm\n",
      "tobler 0.3.1\n",
      "git clone --branch master https://github.com/pysal/tobler.git tmp/tobler\n",
      "mapclassify 2.3.0\n",
      "git clone --branch master https://github.com/pysal/mapclassify.git tmp/mapclassify\n",
      "splot 1.1.3\n",
      "git clone --branch master https://github.com/pysal/splot.git tmp/splot\n",
      "pysal 2.3.0\n",
      "git clone --branch master https://github.com/pysal/pysal.git tmp/pysal\n"
     ]
    }
   ],
   "source": [
    "clone_masters()"
   ]
  },
  {
   "cell_type": "code",
   "execution_count": 15,
   "metadata": {},
   "outputs": [
    {
     "name": "stdout",
     "output_type": "stream",
     "text": [
      "https://api.github.com/repos/pysal/libpysal/releases/latest\n",
      "https://api.github.com/repos/pysal/access/releases/latest\n",
      "https://api.github.com/repos/pysal/esda/releases/latest\n",
      "https://api.github.com/repos/pysal/giddy/releases/latest\n",
      "https://api.github.com/repos/pysal/inequality/releases/latest\n",
      "https://api.github.com/repos/pysal/pointpats/releases/latest\n",
      "https://api.github.com/repos/pysal/segregation/releases/latest\n",
      "https://api.github.com/repos/pysal/spaghetti/releases/latest\n",
      "https://api.github.com/repos/pysal/mgwr/releases/latest\n",
      "https://api.github.com/repos/pysal/spglm/releases/latest\n",
      "https://api.github.com/repos/pysal/spint/releases/latest\n",
      "https://api.github.com/repos/pysal/spreg/releases/latest\n",
      "https://api.github.com/repos/pysal/spvcm/releases/latest\n",
      "https://api.github.com/repos/pysal/tobler/releases/latest\n",
      "https://api.github.com/repos/pysal/mapclassify/releases/latest\n",
      "https://api.github.com/repos/pysal/splot/releases/latest\n",
      "https://api.github.com/repos/pysal/pysal/releases/latest\n"
     ]
    }
   ],
   "source": [
    "github_releases = get_github_info()"
   ]
  },
  {
   "cell_type": "code",
   "execution_count": 16,
   "metadata": {},
   "outputs": [],
   "source": [
    "pypi_releases = get_pypi_info()"
   ]
  },
  {
   "cell_type": "code",
   "execution_count": 17,
   "metadata": {},
   "outputs": [
    {
     "data": {
      "text/plain": [
       "{'version': '2.3.1', 'released': datetime.datetime(2020, 7, 12, 16, 55, 5)}"
      ]
     },
     "execution_count": 17,
     "metadata": {},
     "output_type": "execute_result"
    }
   ],
   "source": [
    "pypi_releases['esda']"
   ]
  },
  {
   "cell_type": "code",
   "execution_count": 18,
   "metadata": {},
   "outputs": [],
   "source": [
    "# only issues closed before or on release date on pypi"
   ]
  },
  {
   "cell_type": "code",
   "execution_count": 19,
   "metadata": {},
   "outputs": [],
   "source": [
    "from datetime import datetime"
   ]
  },
  {
   "cell_type": "code",
   "execution_count": 20,
   "metadata": {},
   "outputs": [],
   "source": [
    "cut_off = pypi_releases['esda']['released']"
   ]
  },
  {
   "cell_type": "code",
   "execution_count": 21,
   "metadata": {},
   "outputs": [],
   "source": [
    "pysal_date = datetime.strptime('2020-02-09T12:00:00Z', '%Y-%m-%dT%H:%M:%SZ')\n",
    "#ISO8601 = \"%Y-%m-%dT%H:%M:%SZ\"\n"
   ]
  },
  {
   "cell_type": "code",
   "execution_count": 22,
   "metadata": {},
   "outputs": [],
   "source": [
    "pysal_rel = {'version': 'v2.2.0',\n",
    "            'release_date': pysal_date}\n",
    "github_releases['pysal'] = pysal_rel"
   ]
  },
  {
   "cell_type": "code",
   "execution_count": 23,
   "metadata": {},
   "outputs": [
    {
     "data": {
      "text/plain": [
       "{'libpysal': {'version': 'v4.3.0',\n",
       "  'url': 'https://api.github.com/repos/pysal/libpysal/tarball/v4.3.0',\n",
       "  'release_date': datetime.datetime(2020, 6, 28, 18, 43, 24)},\n",
       " 'access': {'version': 'v1.1.1',\n",
       "  'url': 'https://api.github.com/repos/pysal/access/tarball/v1.1.1',\n",
       "  'release_date': datetime.datetime(2020, 7, 12, 17, 23, 50)},\n",
       " 'esda': {'version': 'v2.3.1',\n",
       "  'url': 'https://api.github.com/repos/pysal/esda/tarball/v2.3.1',\n",
       "  'release_date': datetime.datetime(2020, 7, 12, 16, 36, 4)},\n",
       " 'giddy': {'version': 'v2.3.3',\n",
       "  'url': 'https://api.github.com/repos/pysal/giddy/tarball/v2.3.3',\n",
       "  'release_date': datetime.datetime(2020, 6, 10, 4, 59, 45)},\n",
       " 'inequality': {'version': 'v1.0.0',\n",
       "  'url': 'https://api.github.com/repos/pysal/inequality/tarball/v1.0.0',\n",
       "  'release_date': datetime.datetime(2018, 10, 31, 22, 28, 18)},\n",
       " 'pointpats': {'version': 'v2.2.0',\n",
       "  'url': 'https://api.github.com/repos/pysal/pointpats/tarball/v2.2.0',\n",
       "  'release_date': datetime.datetime(2020, 7, 27, 22, 17, 33)},\n",
       " 'segregation': {'version': 'v1.3.0',\n",
       "  'url': 'https://api.github.com/repos/pysal/segregation/tarball/v1.3.0',\n",
       "  'release_date': datetime.datetime(2020, 7, 1, 5, 10, 37)},\n",
       " 'spaghetti': {'version': 'v1.5.0',\n",
       "  'url': 'https://api.github.com/repos/pysal/spaghetti/tarball/v1.5.0',\n",
       "  'release_date': datetime.datetime(2020, 5, 4, 0, 55, 49)},\n",
       " 'mgwr': {'version': 'v2.1.1',\n",
       "  'url': 'https://api.github.com/repos/pysal/mgwr/tarball/v2.1.1',\n",
       "  'release_date': datetime.datetime(2019, 7, 18, 18, 42, 36)},\n",
       " 'spglm': {'version': 'v1.0.7',\n",
       "  'url': 'https://api.github.com/repos/pysal/spglm/tarball/v1.0.7',\n",
       "  'release_date': datetime.datetime(2019, 7, 18, 17, 29, 39)},\n",
       " 'spint': {'version': 'v1.0.6',\n",
       "  'url': 'https://api.github.com/repos/pysal/spint/tarball/v1.0.6',\n",
       "  'release_date': datetime.datetime(2019, 7, 23, 0, 51, 26)},\n",
       " 'spreg': {'version': 'v1.1.1',\n",
       "  'url': 'https://api.github.com/repos/pysal/spreg/tarball/v1.1.1',\n",
       "  'release_date': datetime.datetime(2020, 2, 24, 22, 4, 26)},\n",
       " 'spvcm': {'version': 'v0.3.0',\n",
       "  'url': 'https://api.github.com/repos/pysal/spvcm/tarball/v0.3.0',\n",
       "  'release_date': datetime.datetime(2020, 2, 2, 19, 42, 39)},\n",
       " 'tobler': {'version': 'v0.3.1',\n",
       "  'url': 'https://api.github.com/repos/pysal/tobler/tarball/v0.3.1',\n",
       "  'release_date': datetime.datetime(2020, 7, 1, 5, 0, 47)},\n",
       " 'mapclassify': {'version': '2.3.0',\n",
       "  'url': 'https://api.github.com/repos/pysal/mapclassify/tarball/2.3.0',\n",
       "  'release_date': datetime.datetime(2020, 6, 13, 19, 11, 28)},\n",
       " 'splot': {'version': 'v.1.1.3',\n",
       "  'url': 'https://api.github.com/repos/pysal/splot/tarball/v.1.1.3',\n",
       "  'release_date': datetime.datetime(2020, 3, 23, 11, 53, 30)},\n",
       " 'pysal': {'version': 'v2.2.0',\n",
       "  'release_date': datetime.datetime(2020, 2, 9, 12, 0)}}"
      ]
     },
     "execution_count": 23,
     "metadata": {},
     "output_type": "execute_result"
    }
   ],
   "source": [
    "github_releases"
   ]
  },
  {
   "cell_type": "code",
   "execution_count": 24,
   "metadata": {},
   "outputs": [],
   "source": [
    "packages['pysal'] = '2.3.0'"
   ]
  },
  {
   "cell_type": "code",
   "execution_count": 25,
   "metadata": {},
   "outputs": [
    {
     "name": "stdout",
     "output_type": "stream",
     "text": [
      "libpysal 2020-06-28 18:43:24 70 55 33 25\n",
      "access 2020-07-12 17:23:50 6 6 5 5\n",
      "esda 2020-07-12 16:36:04 30 27 18 16\n",
      "giddy 2020-06-10 04:59:45 31 28 27 25\n",
      "inequality 2018-10-31 22:28:18 0 0 0 0\n",
      "pointpats 2020-07-27 22:17:33 11 9 8 7\n",
      "segregation 2020-07-01 05:10:37 5 5 1 1\n",
      "spaghetti 2020-05-04 00:55:49 99 78 65 47\n",
      "mgwr 2019-07-18 18:42:36 2 0 2 0\n",
      "spglm 2019-07-18 17:29:39 1 0 0 0\n",
      "spint 2019-07-23 00:51:26 0 0 0 0\n",
      "spreg 2020-02-24 22:04:26 16 3 8 3\n",
      "spvcm 2020-02-02 19:42:39 0 0 0 0\n",
      "tobler 2020-07-01 05:00:47 27 26 17 16\n",
      "mapclassify 2020-06-13 19:11:28 32 32 17 17\n",
      "splot 2020-03-23 11:53:30 11 4 8 4\n",
      "pysal 2020-02-09 12:00:00 60 0 10 0\n"
     ]
    }
   ],
   "source": [
    "from datetime import datetime\n",
    "datetime.fromtimestamp(0)\n",
    "ISO8601 = \"%Y-%m-%dT%H:%M:%SZ\"\n",
    "\n",
    "\n",
    "final_pulls = {}\n",
    "final_issues = {}\n",
    "for package in packages:\n",
    "    filtered_issues = []\n",
    "    filtered_pulls = []\n",
    "    released = github_releases[package]['release_date']\n",
    "    package_pulls = pulls_closed[package]\n",
    "    package_issues = issues_closed[package]\n",
    "    for issue in package_issues:\n",
    "        #print(issue['number'], issue['title'], issue['closed_at'])\n",
    "        closed = datetime.strptime(issue['closed_at'], ISO8601)\n",
    "        if closed <= released:\n",
    "            filtered_issues.append(issue)\n",
    "    final_issues[package] = filtered_issues\n",
    "    for pull in package_pulls:\n",
    "        #print(pull['number'], pull['title'], pull['closed_at'])\n",
    "        closed = datetime.strptime(pull['closed_at'], ISO8601)\n",
    "        if closed <= released:\n",
    "            filtered_pulls.append(pull)\n",
    "    final_pulls[package] = filtered_pulls\n",
    "    print(package, released, len(package_issues), len(filtered_issues), len(package_pulls),\n",
    "         len(filtered_pulls))"
   ]
  },
  {
   "cell_type": "code",
   "execution_count": 26,
   "metadata": {},
   "outputs": [],
   "source": [
    "issue_details = final_issues\n",
    "pull_details = final_pulls"
   ]
  },
  {
   "cell_type": "code",
   "execution_count": 27,
   "metadata": {},
   "outputs": [
    {
     "data": {
      "text/plain": [
       "{'libpysal': '4.3.0',\n",
       " 'access': '1.1.1',\n",
       " 'esda': '2.3.1',\n",
       " 'giddy': '2.3.3',\n",
       " 'inequality': '1.0.0',\n",
       " 'pointpats': '2.2.0',\n",
       " 'segregation': '1.3.0',\n",
       " 'spaghetti': '1.5.0',\n",
       " 'mgwr': '2.1.1',\n",
       " 'spglm': '1.0.7',\n",
       " 'spint': '1.0.6',\n",
       " 'spreg': '1.1.1',\n",
       " 'spvcm': '0.3.0',\n",
       " 'tobler': '0.3.1',\n",
       " 'mapclassify': '2.3.0',\n",
       " 'splot': '1.1.3',\n",
       " 'pysal': '2.3.0'}"
      ]
     },
     "execution_count": 27,
     "metadata": {},
     "output_type": "execute_result"
    }
   ],
   "source": [
    "packages"
   ]
  },
  {
   "cell_type": "code",
   "execution_count": 28,
   "metadata": {},
   "outputs": [],
   "source": [
    "github_releases['pysal']['release_date'] = release_date"
   ]
  },
  {
   "cell_type": "code",
   "execution_count": 29,
   "metadata": {},
   "outputs": [
    {
     "data": {
      "text/plain": [
       "datetime.datetime(2020, 2, 9, 12, 0)"
      ]
     },
     "execution_count": 29,
     "metadata": {},
     "output_type": "execute_result"
    }
   ],
   "source": [
    "released"
   ]
  },
  {
   "cell_type": "code",
   "execution_count": 30,
   "metadata": {},
   "outputs": [
    {
     "name": "stdout",
     "output_type": "stream",
     "text": [
      "libpysal 190 173 2020-06-28\n",
      "access 79 77 2020-07-12\n",
      "esda 160 156 2020-07-12\n",
      "giddy 103 103 2020-06-10\n",
      "inequality 0 0 2018-10-31\n",
      "pointpats 100 100 2020-07-27\n",
      "segregation 24 24 2020-07-01\n",
      "spaghetti 412 359 2020-05-04\n",
      "mgwr 8 0 2019-07-18\n",
      "spglm 0 0 2019-07-18\n",
      "spint 0 0 2019-07-23\n",
      "spreg 23 12 2020-02-24\n",
      "spvcm 0 0 2020-02-02\n",
      "tobler 64 62 2020-07-01\n",
      "mapclassify 114 114 2020-06-13\n",
      "splot 17 14 2020-03-23\n",
      "pysal 49 49 2020-07-27\n"
     ]
    }
   ],
   "source": [
    "# commits\n",
    "cmd = ['git', 'log', '--oneline', since_date]\n",
    "\n",
    "activity = {}\n",
    "total_commits = 0\n",
    "tag_dates = {}\n",
    "for subpackage in packages:\n",
    "    released = github_releases[subpackage]['release_date']\n",
    "    tag_date = released.strftime(\"%Y-%m-%d\")\n",
    "    tag_dates[subpackage] = tag_date\n",
    "    #print(tag_date)\n",
    "    #tag_date = tag_dates[subpackage]\n",
    "    os.chdir(CWD)\n",
    "    os.chdir('tmp/{subpackage}'.format(subpackage=subpackage))\n",
    "    cmd_until = cmd + ['--until=\"{tag_date}\"'.format(tag_date=tag_date)]\n",
    "    ncommits = len(check_output(cmd_until).splitlines())\n",
    "    ncommits_total = len(check_output(cmd).splitlines())\n",
    "    print(subpackage, ncommits_total, ncommits, tag_date)\n",
    "    total_commits += ncommits\n",
    "    activity[subpackage] = ncommits"
   ]
  },
  {
   "cell_type": "code",
   "execution_count": null,
   "metadata": {},
   "outputs": [],
   "source": []
  },
  {
   "cell_type": "code",
   "execution_count": 31,
   "metadata": {},
   "outputs": [
    {
     "data": {
      "text/plain": [
       "'/home/serge/Dropbox/p/pysal/src/pysal/tools'"
      ]
     },
     "execution_count": 31,
     "metadata": {},
     "output_type": "execute_result"
    }
   ],
   "source": [
    "CWD"
   ]
  },
  {
   "cell_type": "code",
   "execution_count": 32,
   "metadata": {},
   "outputs": [
    {
     "name": "stdout",
     "output_type": "stream",
     "text": [
      "libpysal 190 173 2020-06-28\n",
      "access 79 77 2020-07-12\n",
      "esda 160 156 2020-07-12\n",
      "giddy 103 103 2020-06-10\n",
      "inequality 0 0 2018-10-31\n",
      "pointpats 100 100 2020-07-27\n",
      "segregation 24 24 2020-07-01\n",
      "spaghetti 412 359 2020-05-04\n",
      "mgwr 8 0 2019-07-18\n",
      "spglm 0 0 2019-07-18\n",
      "spint 0 0 2019-07-23\n",
      "spreg 23 12 2020-02-24\n",
      "spvcm 0 0 2020-02-02\n",
      "tobler 64 62 2020-07-01\n",
      "mapclassify 114 114 2020-06-13\n",
      "splot 17 14 2020-03-23\n",
      "pysal 49 49 2020-07-27\n"
     ]
    }
   ],
   "source": [
    "# commits\n",
    "cmd = ['git', 'log', '--oneline', since_date]\n",
    "\n",
    "activity = {}\n",
    "total_commits = 0\n",
    "for subpackage in packages:\n",
    "    tag_date = tag_dates[subpackage]\n",
    "    os.chdir(CWD)\n",
    "    os.chdir('tmp/{subpackage}'.format(subpackage=subpackage))\n",
    "    cmd_until = cmd + ['--until=\"{tag_date}\"'.format(tag_date=tag_date)]\n",
    "    ncommits = len(check_output(cmd_until).splitlines())\n",
    "    ncommits_total = len(check_output(cmd).splitlines())\n",
    "    print(subpackage, ncommits_total, ncommits, tag_date)\n",
    "    total_commits += ncommits\n",
    "    activity[subpackage] = ncommits"
   ]
  },
  {
   "cell_type": "code",
   "execution_count": 33,
   "metadata": {},
   "outputs": [
    {
     "data": {
      "text/plain": [
       "['git', 'log', '--oneline', '--since=\"2020-02-09\"', '--until=\"2020-07-27\"']"
      ]
     },
     "execution_count": 33,
     "metadata": {},
     "output_type": "execute_result"
    }
   ],
   "source": [
    "cmd_until"
   ]
  },
  {
   "cell_type": "code",
   "execution_count": 34,
   "metadata": {},
   "outputs": [],
   "source": [
    "identities = {'Levi John Wolf': ('ljwolf', 'Levi John Wolf'),\n",
    "              'Serge Rey': ('Serge Rey', 'Sergio Rey', 'sjsrey', 'serge'),\n",
    "              'Wei Kang': ('Wei Kang', 'weikang9009'),\n",
    "              'Dani Arribas-Bel': ('Dani Arribas-Bel', 'darribas'),\n",
    "              'Antti Härkönen': ( 'antth', 'Antti Härkönen', 'Antti Härkönen', 'Antth'  ),\n",
    "              'Juan C Duque': ('Juan C Duque', \"Juan Duque\"),\n",
    "              'Renan Xavier Cortes': ('Renan Xavier Cortes', 'renanxcortes', 'Renan Xavier Cortes'   ),\n",
    "              'Taylor Oshan': ('Tayloroshan', 'Taylor Oshan', 'TaylorOshan'),\n",
    "              'Tom Gertin': ('@Tomgertin', 'Tom Gertin', '@tomgertin')\n",
    "}\n",
    "\n",
    "def regularize_identity(string):\n",
    "    string = string.decode()\n",
    "    for name, aliases in identities.items():\n",
    "        for alias in aliases:\n",
    "            if alias in string:\n",
    "                string = string.replace(alias, name)\n",
    "    if len(string.split(' '))>1:\n",
    "        string = string.title()\n",
    "    return string.lstrip('* ')"
   ]
  },
  {
   "cell_type": "code",
   "execution_count": 35,
   "metadata": {},
   "outputs": [],
   "source": [
    "author_cmd = ['git', 'log', '--format=* %aN', since_date]"
   ]
  },
  {
   "cell_type": "code",
   "execution_count": 36,
   "metadata": {},
   "outputs": [],
   "source": [
    "author_cmd.append('blank')"
   ]
  },
  {
   "cell_type": "code",
   "execution_count": 37,
   "metadata": {},
   "outputs": [
    {
     "data": {
      "text/plain": [
       "['git', 'log', '--format=* %aN', '--since=\"2020-02-09\"', 'blank']"
      ]
     },
     "execution_count": 37,
     "metadata": {},
     "output_type": "execute_result"
    }
   ],
   "source": [
    "author_cmd"
   ]
  },
  {
   "cell_type": "code",
   "execution_count": 38,
   "metadata": {},
   "outputs": [],
   "source": [
    "from collections import Counter"
   ]
  },
  {
   "cell_type": "code",
   "execution_count": 39,
   "metadata": {},
   "outputs": [
    {
     "data": {
      "text/plain": [
       "{'libpysal': '2020-06-28',\n",
       " 'access': '2020-07-12',\n",
       " 'esda': '2020-07-12',\n",
       " 'giddy': '2020-06-10',\n",
       " 'inequality': '2018-10-31',\n",
       " 'pointpats': '2020-07-27',\n",
       " 'segregation': '2020-07-01',\n",
       " 'spaghetti': '2020-05-04',\n",
       " 'mgwr': '2019-07-18',\n",
       " 'spglm': '2019-07-18',\n",
       " 'spint': '2019-07-23',\n",
       " 'spreg': '2020-02-24',\n",
       " 'spvcm': '2020-02-02',\n",
       " 'tobler': '2020-07-01',\n",
       " 'mapclassify': '2020-06-13',\n",
       " 'splot': '2020-03-23',\n",
       " 'pysal': '2020-07-27'}"
      ]
     },
     "execution_count": 39,
     "metadata": {},
     "output_type": "execute_result"
    }
   ],
   "source": [
    "tag_dates"
   ]
  },
  {
   "cell_type": "code",
   "execution_count": 40,
   "metadata": {},
   "outputs": [
    {
     "name": "stdout",
     "output_type": "stream",
     "text": [
      "['git', 'log', '--format=* %aN', '--since=\"2020-02-09\"', '--until=\"2020-06-29\"']\n",
      "['git', 'log', '--format=* %aN', '--since=\"2020-02-09\"', '--until=\"2020-07-13\"']\n",
      "['git', 'log', '--format=* %aN', '--since=\"2020-02-09\"', '--until=\"2020-07-13\"']\n",
      "['git', 'log', '--format=* %aN', '--since=\"2020-02-09\"', '--until=\"2020-06-11\"']\n",
      "['git', 'log', '--format=* %aN', '--since=\"2020-02-09\"', '--until=\"2018-11-01\"']\n",
      "['git', 'log', '--format=* %aN', '--since=\"2020-02-09\"', '--until=\"2020-07-28\"']\n",
      "['git', 'log', '--format=* %aN', '--since=\"2020-02-09\"', '--until=\"2020-07-02\"']\n",
      "['git', 'log', '--format=* %aN', '--since=\"2020-02-09\"', '--until=\"2020-05-05\"']\n",
      "['git', 'log', '--format=* %aN', '--since=\"2020-02-09\"', '--until=\"2019-07-19\"']\n",
      "['git', 'log', '--format=* %aN', '--since=\"2020-02-09\"', '--until=\"2019-07-19\"']\n",
      "['git', 'log', '--format=* %aN', '--since=\"2020-02-09\"', '--until=\"2019-07-24\"']\n",
      "['git', 'log', '--format=* %aN', '--since=\"2020-02-09\"', '--until=\"2020-02-25\"']\n",
      "['git', 'log', '--format=* %aN', '--since=\"2020-02-09\"', '--until=\"2020-02-03\"']\n",
      "['git', 'log', '--format=* %aN', '--since=\"2020-02-09\"', '--until=\"2020-07-02\"']\n",
      "['git', 'log', '--format=* %aN', '--since=\"2020-02-09\"', '--until=\"2020-06-14\"']\n",
      "['git', 'log', '--format=* %aN', '--since=\"2020-02-09\"', '--until=\"2020-03-24\"']\n",
      "['git', 'log', '--format=* %aN', '--since=\"2020-02-09\"', '--until=\"2020-07-28\"']\n"
     ]
    }
   ],
   "source": [
    "authors_global = set()\n",
    "authors = {}\n",
    "global_counter = Counter()\n",
    "counters = dict()\n",
    "cmd = ['git', 'log', '--oneline', since_date]\n",
    "total_commits = 0\n",
    "activity = {}\n",
    "for subpackage in packages:\n",
    "    os.chdir(CWD)\n",
    "    os.chdir('tmp/{subpackage}'.format(subpackage=subpackage))\n",
    "    ncommits = len(check_output(cmd).splitlines())\n",
    "    tag_date = tag_dates[subpackage]\n",
    "    tag_date = (datetime.strptime(tag_date, '%Y-%m-%d') + timedelta(days=1)).strftime('%Y-%m-%d')\n",
    "    author_cmd[-1] = '--until=\"{tag_date}\"'.format(tag_date=tag_date)\n",
    "    #cmd_until = cmd + ['--until=\"{tag_date}\"'.format(tag_date=tag_date)]\n",
    "    print(author_cmd)\n",
    "\n",
    "\n",
    "    all_authors = check_output(author_cmd).splitlines()\n",
    "    counter = Counter([regularize_identity(author) for author in all_authors])\n",
    "    global_counter += counter\n",
    "    counters.update({subpackage: counter})\n",
    "    unique_authors = sorted(set(all_authors))\n",
    "    authors[subpackage] =  unique_authors\n",
    "    authors_global.update(unique_authors)\n",
    "    total_commits += ncommits\n",
    "    activity[subpackage] = ncommits"
   ]
  },
  {
   "cell_type": "code",
   "execution_count": 41,
   "metadata": {},
   "outputs": [
    {
     "data": {
      "text/plain": [
       "Counter({'Wei Kang': 8,\n",
       "         'Serge Rey': 25,\n",
       "         'Eli Knaap': 7,\n",
       "         'James Gaboardi': 5,\n",
       "         'Serge': 4})"
      ]
     },
     "execution_count": 41,
     "metadata": {},
     "output_type": "execute_result"
    }
   ],
   "source": [
    "counter"
   ]
  },
  {
   "cell_type": "code",
   "execution_count": 42,
   "metadata": {},
   "outputs": [
    {
     "data": {
      "text/plain": [
       "{b'* Arfon Smith',\n",
       " b'* Bryan Bennett',\n",
       " b'* Dani Arribas-Bel',\n",
       " b'* Elliott Sales de Andrade',\n",
       " b'* James Gaboardi',\n",
       " b'* Jamie Saxon',\n",
       " b'* Jeffery Sauer',\n",
       " b'* Levi John Wolf',\n",
       " b'* Martin Fleischmann',\n",
       " b'* Pattyf',\n",
       " b'* Pedro Amaral',\n",
       " b'* Serge',\n",
       " b'* Serge Rey',\n",
       " b'* Sergio Rey',\n",
       " b'* Stefanie Lumnitz',\n",
       " b'* Sugam Srivastava',\n",
       " b'* Wagner',\n",
       " b'* Wei Kang',\n",
       " b'* dependabot[bot]',\n",
       " b'* eli knaap',\n",
       " b'* jkoschinsky',\n",
       " b'* ljwolf',\n",
       " b'* vidal-anguiano',\n",
       " b'* weikang9009'}"
      ]
     },
     "execution_count": 42,
     "metadata": {},
     "output_type": "execute_result"
    }
   ],
   "source": [
    "authors_global"
   ]
  },
  {
   "cell_type": "code",
   "execution_count": 43,
   "metadata": {},
   "outputs": [
    {
     "data": {
      "text/plain": [
       "{'libpysal': 190,\n",
       " 'access': 79,\n",
       " 'esda': 160,\n",
       " 'giddy': 103,\n",
       " 'inequality': 0,\n",
       " 'pointpats': 100,\n",
       " 'segregation': 24,\n",
       " 'spaghetti': 412,\n",
       " 'mgwr': 8,\n",
       " 'spglm': 0,\n",
       " 'spint': 0,\n",
       " 'spreg': 23,\n",
       " 'spvcm': 0,\n",
       " 'tobler': 64,\n",
       " 'mapclassify': 114,\n",
       " 'splot': 17,\n",
       " 'pysal': 49}"
      ]
     },
     "execution_count": 43,
     "metadata": {},
     "output_type": "execute_result"
    }
   ],
   "source": [
    "activity"
   ]
  },
  {
   "cell_type": "code",
   "execution_count": 44,
   "metadata": {},
   "outputs": [
    {
     "data": {
      "text/plain": [
       "{'libpysal': Counter({'Serge Rey': 88,\n",
       "          'James Gaboardi': 58,\n",
       "          'Martin Fleischmann': 2,\n",
       "          'Dani Arribas-Bel': 1,\n",
       "          'Levi John Wolf': 16,\n",
       "          'Bryan Bennett': 1,\n",
       "          'Jeffery Sauer': 1,\n",
       "          'Elliott Sales De Andrade': 4,\n",
       "          'Wagner': 2}),\n",
       " 'access': Counter({'Jkoschinsky': 6,\n",
       "          'Jamie Saxon': 41,\n",
       "          'Vidal-Anguiano': 32}),\n",
       " 'esda': Counter({'Serge Rey': 35,\n",
       "          'Serge': 5,\n",
       "          'James Gaboardi': 13,\n",
       "          'Wei Kang': 1,\n",
       "          'Dependabot[Bot]': 1,\n",
       "          'Levi John Wolf': 61,\n",
       "          'Dani Arribas-Bel': 38,\n",
       "          'Jeffery Sauer': 1,\n",
       "          'Eli Knaap': 1}),\n",
       " 'giddy': Counter({'Wei Kang': 102, 'Serge Rey': 1}),\n",
       " 'inequality': Counter(),\n",
       " 'pointpats': Counter({'Serge Rey': 16,\n",
       "          'Serge': 1,\n",
       "          'Levi John Wolf': 75,\n",
       "          'Wei Kang': 4,\n",
       "          'Sugam Srivastava': 4}),\n",
       " 'segregation': Counter({'Eli Knaap': 24}),\n",
       " 'spaghetti': Counter({'James Gaboardi': 357, 'Serge Rey': 2}),\n",
       " 'mgwr': Counter(),\n",
       " 'spglm': Counter(),\n",
       " 'spint': Counter(),\n",
       " 'spreg': Counter({'Pedro Amaral': 6, 'Eli Knaap': 6}),\n",
       " 'spvcm': Counter(),\n",
       " 'tobler': Counter({'Eli Knaap': 60, 'Pattyf': 1, 'Serge Rey': 1}),\n",
       " 'mapclassify': Counter({'Serge Rey': 84,\n",
       "          'Martin Fleischmann': 8,\n",
       "          'James Gaboardi': 20,\n",
       "          'Eli Knaap': 2}),\n",
       " 'splot': Counter({'Stefanie Lumnitz': 11,\n",
       "          'Arfon Smith': 1,\n",
       "          'James Gaboardi': 1,\n",
       "          'Levi John Wolf': 1}),\n",
       " 'pysal': Counter({'Wei Kang': 8,\n",
       "          'Serge Rey': 25,\n",
       "          'Eli Knaap': 7,\n",
       "          'James Gaboardi': 5,\n",
       "          'Serge': 4})}"
      ]
     },
     "execution_count": 44,
     "metadata": {},
     "output_type": "execute_result"
    }
   ],
   "source": [
    "counters"
   ]
  },
  {
   "cell_type": "code",
   "execution_count": 45,
   "metadata": {},
   "outputs": [
    {
     "data": {
      "text/plain": [
       "{'libpysal': Counter({'Serge Rey': 88,\n",
       "          'James Gaboardi': 58,\n",
       "          'Martin Fleischmann': 2,\n",
       "          'Dani Arribas-Bel': 1,\n",
       "          'Levi John Wolf': 16,\n",
       "          'Bryan Bennett': 1,\n",
       "          'Jeffery Sauer': 1,\n",
       "          'Elliott Sales De Andrade': 4,\n",
       "          'Wagner': 2}),\n",
       " 'access': Counter({'Jkoschinsky': 6,\n",
       "          'Jamie Saxon': 41,\n",
       "          'Vidal-Anguiano': 32}),\n",
       " 'esda': Counter({'Serge Rey': 35,\n",
       "          'Serge': 5,\n",
       "          'James Gaboardi': 13,\n",
       "          'Wei Kang': 1,\n",
       "          'Dependabot[Bot]': 1,\n",
       "          'Levi John Wolf': 61,\n",
       "          'Dani Arribas-Bel': 38,\n",
       "          'Jeffery Sauer': 1,\n",
       "          'Eli Knaap': 1}),\n",
       " 'giddy': Counter({'Wei Kang': 102, 'Serge Rey': 1}),\n",
       " 'inequality': Counter(),\n",
       " 'pointpats': Counter({'Serge Rey': 16,\n",
       "          'Serge': 1,\n",
       "          'Levi John Wolf': 75,\n",
       "          'Wei Kang': 4,\n",
       "          'Sugam Srivastava': 4}),\n",
       " 'segregation': Counter({'Eli Knaap': 24}),\n",
       " 'spaghetti': Counter({'James Gaboardi': 357, 'Serge Rey': 2}),\n",
       " 'mgwr': Counter(),\n",
       " 'spglm': Counter(),\n",
       " 'spint': Counter(),\n",
       " 'spreg': Counter({'Pedro Amaral': 6, 'Eli Knaap': 6}),\n",
       " 'spvcm': Counter(),\n",
       " 'tobler': Counter({'Eli Knaap': 60, 'Pattyf': 1, 'Serge Rey': 1}),\n",
       " 'mapclassify': Counter({'Serge Rey': 84,\n",
       "          'Martin Fleischmann': 8,\n",
       "          'James Gaboardi': 20,\n",
       "          'Eli Knaap': 2}),\n",
       " 'splot': Counter({'Stefanie Lumnitz': 11,\n",
       "          'Arfon Smith': 1,\n",
       "          'James Gaboardi': 1,\n",
       "          'Levi John Wolf': 1}),\n",
       " 'pysal': Counter({'Wei Kang': 8,\n",
       "          'Serge Rey': 25,\n",
       "          'Eli Knaap': 7,\n",
       "          'James Gaboardi': 5,\n",
       "          'Serge': 4})}"
      ]
     },
     "execution_count": 45,
     "metadata": {},
     "output_type": "execute_result"
    }
   ],
   "source": [
    "counters"
   ]
  },
  {
   "cell_type": "code",
   "execution_count": 46,
   "metadata": {},
   "outputs": [],
   "source": [
    "def get_tag(title, level=\"##\", as_string=True):\n",
    "    words = title.split()\n",
    "    tag = \"-\".join([word.lower() for word in words])\n",
    "    heading = level+\" \"+title\n",
    "    line = \"\\n\\n<a name=\\\"{}\\\"></a>\".format(tag)\n",
    "    lines = [line]\n",
    "    lines.append(heading)\n",
    "    if as_string:\n",
    "        return \"\\n\".join(lines)\n",
    "    else:\n",
    "        return lines"
   ]
  },
  {
   "cell_type": "code",
   "execution_count": 47,
   "metadata": {},
   "outputs": [],
   "source": [
    "subs = issue_details.keys()\n",
    "table = []\n",
    "txt = []\n",
    "lines = get_tag(\"Changes by Package\", as_string=False)\n",
    "\n",
    "for sub in subs:\n",
    "    total= issue_details[sub]\n",
    "    pr = pull_details[sub]\n",
    "    \n",
    "    row = [sub, activity[sub], len(total), len(pr)]\n",
    "    table.append(row)\n",
    "    #line = \"\\n<a name=\\\"{sub}\\\"></a>\".format(sub=sub)\n",
    "    #lines.append(line)\n",
    "    #line = \"### {sub}\".format(sub=sub)\n",
    "    #lines.append(line)\n",
    "    lines.extend(get_tag(sub.lower(), \"###\", as_string=False))\n",
    "    for issue in total:\n",
    "        url = issue['html_url']\n",
    "        title = issue['title']\n",
    "        number = issue['number']\n",
    "        line = \"* [#{number}:]({url}) {title} \".format(title=title,\n",
    "                                                     number=number,\n",
    "                                                     url=url)\n",
    "        lines.append(line)\n",
    "\n"
   ]
  },
  {
   "cell_type": "code",
   "execution_count": 48,
   "metadata": {},
   "outputs": [
    {
     "data": {
      "text/plain": [
       "'* [#99:](https://github.com/pysal/splot/pull/99) Remove the links around figures in the JOSS paper '"
      ]
     },
     "execution_count": 48,
     "metadata": {},
     "output_type": "execute_result"
    }
   ],
   "source": [
    "line"
   ]
  },
  {
   "cell_type": "code",
   "execution_count": 49,
   "metadata": {},
   "outputs": [
    {
     "data": {
      "text/plain": [
       "[['libpysal', 190, 55, 25],\n",
       " ['access', 79, 6, 5],\n",
       " ['esda', 160, 27, 16],\n",
       " ['giddy', 103, 28, 25],\n",
       " ['inequality', 0, 0, 0],\n",
       " ['pointpats', 100, 9, 7],\n",
       " ['segregation', 24, 5, 1],\n",
       " ['spaghetti', 412, 78, 47],\n",
       " ['mgwr', 8, 0, 0],\n",
       " ['spglm', 0, 0, 0],\n",
       " ['spint', 0, 0, 0],\n",
       " ['spreg', 23, 3, 3],\n",
       " ['spvcm', 0, 0, 0],\n",
       " ['tobler', 64, 26, 16],\n",
       " ['mapclassify', 114, 32, 17],\n",
       " ['splot', 17, 4, 4],\n",
       " ['pysal', 49, 0, 0]]"
      ]
     },
     "execution_count": 49,
     "metadata": {},
     "output_type": "execute_result"
    }
   ],
   "source": [
    "table"
   ]
  },
  {
   "cell_type": "code",
   "execution_count": 50,
   "metadata": {},
   "outputs": [],
   "source": [
    "os.chdir(CWD)\n",
    "\n",
    "import pandas"
   ]
  },
  {
   "cell_type": "code",
   "execution_count": 51,
   "metadata": {},
   "outputs": [],
   "source": [
    "df = pandas.DataFrame(table, columns=['package', 'commits', 'total issues', 'pulls'])"
   ]
  },
  {
   "cell_type": "code",
   "execution_count": 52,
   "metadata": {},
   "outputs": [
    {
     "data": {
      "text/html": [
       "<div>\n",
       "<style scoped>\n",
       "    .dataframe tbody tr th:only-of-type {\n",
       "        vertical-align: middle;\n",
       "    }\n",
       "\n",
       "    .dataframe tbody tr th {\n",
       "        vertical-align: top;\n",
       "    }\n",
       "\n",
       "    .dataframe thead th {\n",
       "        text-align: right;\n",
       "    }\n",
       "</style>\n",
       "<table border=\"1\" class=\"dataframe\">\n",
       "  <thead>\n",
       "    <tr style=\"text-align: right;\">\n",
       "      <th></th>\n",
       "      <th>package</th>\n",
       "      <th>commits</th>\n",
       "      <th>total issues</th>\n",
       "      <th>pulls</th>\n",
       "    </tr>\n",
       "  </thead>\n",
       "  <tbody>\n",
       "    <tr>\n",
       "      <th>0</th>\n",
       "      <td>libpysal</td>\n",
       "      <td>190</td>\n",
       "      <td>55</td>\n",
       "      <td>25</td>\n",
       "    </tr>\n",
       "    <tr>\n",
       "      <th>1</th>\n",
       "      <td>access</td>\n",
       "      <td>79</td>\n",
       "      <td>6</td>\n",
       "      <td>5</td>\n",
       "    </tr>\n",
       "    <tr>\n",
       "      <th>2</th>\n",
       "      <td>esda</td>\n",
       "      <td>160</td>\n",
       "      <td>27</td>\n",
       "      <td>16</td>\n",
       "    </tr>\n",
       "    <tr>\n",
       "      <th>3</th>\n",
       "      <td>giddy</td>\n",
       "      <td>103</td>\n",
       "      <td>28</td>\n",
       "      <td>25</td>\n",
       "    </tr>\n",
       "    <tr>\n",
       "      <th>4</th>\n",
       "      <td>inequality</td>\n",
       "      <td>0</td>\n",
       "      <td>0</td>\n",
       "      <td>0</td>\n",
       "    </tr>\n",
       "  </tbody>\n",
       "</table>\n",
       "</div>"
      ],
      "text/plain": [
       "      package  commits  total issues  pulls\n",
       "0    libpysal      190            55     25\n",
       "1      access       79             6      5\n",
       "2        esda      160            27     16\n",
       "3       giddy      103            28     25\n",
       "4  inequality        0             0      0"
      ]
     },
     "execution_count": 52,
     "metadata": {},
     "output_type": "execute_result"
    }
   ],
   "source": [
    "df.head()"
   ]
  },
  {
   "cell_type": "code",
   "execution_count": 53,
   "metadata": {},
   "outputs": [],
   "source": [
    "df.sort_values(['commits','pulls'], ascending=False)\\\n",
    "  .to_html('./commit_table.html', index=None)"
   ]
  },
  {
   "cell_type": "code",
   "execution_count": 54,
   "metadata": {},
   "outputs": [
    {
     "data": {
      "text/plain": [
       "package         libpysalaccessesdagiddyinequalitypointpatssegr...\n",
       "commits                                                      1343\n",
       "total issues                                                  273\n",
       "pulls                                                         166\n",
       "dtype: object"
      ]
     },
     "execution_count": 54,
     "metadata": {},
     "output_type": "execute_result"
    }
   ],
   "source": [
    "df.sum()"
   ]
  },
  {
   "cell_type": "code",
   "execution_count": 55,
   "metadata": {},
   "outputs": [],
   "source": [
    "contributor_table = pandas.DataFrame.from_dict(counters).fillna(0).astype(int).T"
   ]
  },
  {
   "cell_type": "code",
   "execution_count": 56,
   "metadata": {},
   "outputs": [],
   "source": [
    "contributor_table.to_html('./contributor_table.html')"
   ]
  },
  {
   "cell_type": "code",
   "execution_count": 57,
   "metadata": {},
   "outputs": [
    {
     "data": {
      "text/html": [
       "<div>\n",
       "<style scoped>\n",
       "    .dataframe tbody tr th:only-of-type {\n",
       "        vertical-align: middle;\n",
       "    }\n",
       "\n",
       "    .dataframe tbody tr th {\n",
       "        vertical-align: top;\n",
       "    }\n",
       "\n",
       "    .dataframe thead th {\n",
       "        text-align: right;\n",
       "    }\n",
       "</style>\n",
       "<table border=\"1\" class=\"dataframe\">\n",
       "  <thead>\n",
       "    <tr style=\"text-align: right;\">\n",
       "      <th></th>\n",
       "      <th>commits</th>\n",
       "    </tr>\n",
       "  </thead>\n",
       "  <tbody>\n",
       "    <tr>\n",
       "      <th>Arfon Smith</th>\n",
       "      <td>1</td>\n",
       "    </tr>\n",
       "    <tr>\n",
       "      <th>Bryan Bennett</th>\n",
       "      <td>1</td>\n",
       "    </tr>\n",
       "    <tr>\n",
       "      <th>Dani Arribas-Bel</th>\n",
       "      <td>39</td>\n",
       "    </tr>\n",
       "    <tr>\n",
       "      <th>Dependabot[Bot]</th>\n",
       "      <td>1</td>\n",
       "    </tr>\n",
       "    <tr>\n",
       "      <th>Eli Knaap</th>\n",
       "      <td>100</td>\n",
       "    </tr>\n",
       "    <tr>\n",
       "      <th>Elliott Sales De Andrade</th>\n",
       "      <td>4</td>\n",
       "    </tr>\n",
       "    <tr>\n",
       "      <th>James Gaboardi</th>\n",
       "      <td>454</td>\n",
       "    </tr>\n",
       "    <tr>\n",
       "      <th>Jamie Saxon</th>\n",
       "      <td>41</td>\n",
       "    </tr>\n",
       "    <tr>\n",
       "      <th>Jeffery Sauer</th>\n",
       "      <td>2</td>\n",
       "    </tr>\n",
       "    <tr>\n",
       "      <th>Jkoschinsky</th>\n",
       "      <td>6</td>\n",
       "    </tr>\n",
       "    <tr>\n",
       "      <th>Levi John Wolf</th>\n",
       "      <td>153</td>\n",
       "    </tr>\n",
       "    <tr>\n",
       "      <th>Martin Fleischmann</th>\n",
       "      <td>10</td>\n",
       "    </tr>\n",
       "    <tr>\n",
       "      <th>Pattyf</th>\n",
       "      <td>1</td>\n",
       "    </tr>\n",
       "    <tr>\n",
       "      <th>Pedro Amaral</th>\n",
       "      <td>6</td>\n",
       "    </tr>\n",
       "    <tr>\n",
       "      <th>Serge</th>\n",
       "      <td>10</td>\n",
       "    </tr>\n",
       "    <tr>\n",
       "      <th>Serge Rey</th>\n",
       "      <td>252</td>\n",
       "    </tr>\n",
       "    <tr>\n",
       "      <th>Stefanie Lumnitz</th>\n",
       "      <td>11</td>\n",
       "    </tr>\n",
       "    <tr>\n",
       "      <th>Sugam Srivastava</th>\n",
       "      <td>4</td>\n",
       "    </tr>\n",
       "    <tr>\n",
       "      <th>Vidal-Anguiano</th>\n",
       "      <td>32</td>\n",
       "    </tr>\n",
       "    <tr>\n",
       "      <th>Wagner</th>\n",
       "      <td>2</td>\n",
       "    </tr>\n",
       "    <tr>\n",
       "      <th>Wei Kang</th>\n",
       "      <td>115</td>\n",
       "    </tr>\n",
       "  </tbody>\n",
       "</table>\n",
       "</div>"
      ],
      "text/plain": [
       "                          commits\n",
       "Arfon Smith                     1\n",
       "Bryan Bennett                   1\n",
       "Dani Arribas-Bel               39\n",
       "Dependabot[Bot]                 1\n",
       "Eli Knaap                     100\n",
       "Elliott Sales De Andrade        4\n",
       "James Gaboardi                454\n",
       "Jamie Saxon                    41\n",
       "Jeffery Sauer                   2\n",
       "Jkoschinsky                     6\n",
       "Levi John Wolf                153\n",
       "Martin Fleischmann             10\n",
       "Pattyf                          1\n",
       "Pedro Amaral                    6\n",
       "Serge                          10\n",
       "Serge Rey                     252\n",
       "Stefanie Lumnitz               11\n",
       "Sugam Srivastava                4\n",
       "Vidal-Anguiano                 32\n",
       "Wagner                          2\n",
       "Wei Kang                      115"
      ]
     },
     "execution_count": 57,
     "metadata": {},
     "output_type": "execute_result"
    }
   ],
   "source": [
    "totals = contributor_table.sum(axis=0).T\n",
    "totals.sort_index().to_frame('commits')"
   ]
  },
  {
   "cell_type": "code",
   "execution_count": 58,
   "metadata": {},
   "outputs": [],
   "source": [
    "totals = contributor_table.sum(axis=0).T\n",
    "totals.sort_index().to_frame('commits').to_html('./commits_by_person.html')"
   ]
  },
  {
   "cell_type": "code",
   "execution_count": 59,
   "metadata": {},
   "outputs": [
    {
     "data": {
      "text/plain": [
       "Serge Rey                   252\n",
       "James Gaboardi              454\n",
       "Martin Fleischmann           10\n",
       "Dani Arribas-Bel             39\n",
       "Levi John Wolf              153\n",
       "Bryan Bennett                 1\n",
       "Jeffery Sauer                 2\n",
       "Elliott Sales De Andrade      4\n",
       "Wagner                        2\n",
       "Jkoschinsky                   6\n",
       "Jamie Saxon                  41\n",
       "Vidal-Anguiano               32\n",
       "Serge                        10\n",
       "Wei Kang                    115\n",
       "Dependabot[Bot]               1\n",
       "Eli Knaap                   100\n",
       "Sugam Srivastava              4\n",
       "Pedro Amaral                  6\n",
       "Pattyf                        1\n",
       "Stefanie Lumnitz             11\n",
       "Arfon Smith                   1\n",
       "dtype: int64"
      ]
     },
     "execution_count": 59,
     "metadata": {},
     "output_type": "execute_result"
    }
   ],
   "source": [
    "totals"
   ]
  },
  {
   "cell_type": "code",
   "execution_count": 60,
   "metadata": {},
   "outputs": [],
   "source": [
    "n_commits = df.commits.sum()\n",
    "n_issues = df['total issues'].sum()\n",
    "n_pulls = df.pulls.sum()"
   ]
  },
  {
   "cell_type": "code",
   "execution_count": 61,
   "metadata": {},
   "outputs": [
    {
     "data": {
      "text/plain": [
       "1343"
      ]
     },
     "execution_count": 61,
     "metadata": {},
     "output_type": "execute_result"
    }
   ],
   "source": [
    "n_commits"
   ]
  },
  {
   "cell_type": "code",
   "execution_count": 62,
   "metadata": {},
   "outputs": [],
   "source": [
    "#Overall, there were 719 commits that closed 240 issues, together with 105 pull requests across 12 packages since our last release on 2017-11-03.\n",
    "#('{0} Here is a really long '\n",
    "#           'sentence with {1}').format(3, 5))\n",
    "line = ('Overall, there were {n_commits} commits that closed {n_issues} issues,'  \n",
    "    ' together with {n_pulls} pull requests since our last release' \n",
    "        ' on {since_date}.\\n'.format(n_commits=n_commits, n_issues=n_issues,\n",
    "        n_pulls=n_pulls, since_date = start_date))"
   ]
  },
  {
   "cell_type": "code",
   "execution_count": 63,
   "metadata": {},
   "outputs": [
    {
     "data": {
      "text/plain": [
       "'Overall, there were 1343 commits that closed 273 issues, together with 166 pull requests since our last release on 2020-02-09.\\n'"
      ]
     },
     "execution_count": 63,
     "metadata": {},
     "output_type": "execute_result"
    }
   ],
   "source": [
    "line"
   ]
  },
  {
   "cell_type": "markdown",
   "metadata": {},
   "source": [
    "## append html files to end of changes.md with tags for toc"
   ]
  },
  {
   "cell_type": "code",
   "execution_count": 64,
   "metadata": {},
   "outputs": [],
   "source": [
    "with open('changes.md', 'w') as fout:\n",
    "    fout.write(line)\n",
    "    fout.write(\"\\n\".join(lines))\n",
    "    fout.write(get_tag(\"Summary Statistics\"))\n",
    "    \n",
    "    with open('commit_table.html') as table:\n",
    "        table_lines = table.readlines()\n",
    "        title = \"Package Activity\"\n",
    "        fout.write(get_tag(title,\"###\"))\n",
    "        fout.write(\"\\n\")\n",
    "        fout.write(\"\".join(table_lines))\n",
    "                \n",
    "    with open('commits_by_person.html') as table:\n",
    "        table_lines = table.readlines()\n",
    "        title = \"Contributor Activity\"\n",
    "        fout.write(get_tag(title,\"###\"))\n",
    "        fout.write(\"\\n\")\n",
    "        fout.write(\"\".join(table_lines))\n",
    "        \n",
    "    with open('contributor_table.html') as table:\n",
    "        table_lines = table.readlines()\n",
    "        title = \"Contributor by Package Activity\"\n",
    "        fout.write(get_tag(title,\"###\"))\n",
    "        fout.write(\"\\n\")\n",
    "        fout.write(\"\".join(table_lines))"
   ]
  },
  {
   "cell_type": "code",
   "execution_count": null,
   "metadata": {},
   "outputs": [],
   "source": []
  },
  {
   "cell_type": "code",
   "execution_count": null,
   "metadata": {},
   "outputs": [],
   "source": []
  }
 ],
 "metadata": {
  "kernelspec": {
   "display_name": "Python 3",
   "language": "python",
   "name": "python3"
  },
  "language_info": {
   "codemirror_mode": {
    "name": "ipython",
    "version": 3
   },
   "file_extension": ".py",
   "mimetype": "text/x-python",
   "name": "python",
   "nbconvert_exporter": "python",
   "pygments_lexer": "ipython3",
   "version": "3.7.6"
  }
 },
 "nbformat": 4,
 "nbformat_minor": 2
}
