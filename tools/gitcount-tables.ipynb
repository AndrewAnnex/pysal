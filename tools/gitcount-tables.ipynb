{
 "cells": [
  {
   "cell_type": "markdown",
   "metadata": {},
   "source": [
    "## PySAL Change Log Statistics: Table Generation\n",
    "\n",
    "This notebook generates the summary statistics for use in the 6-month releases of PySAL, which is now a meta package. \n",
    "\n",
    "It assumes the subpackages have been git cloned in a directory below the location of this notebook. It also requires network connectivity for some of the reporting.\n",
    "\n",
    "Run this notebook after `gitcount.ipynb`\n"
   ]
  },
  {
   "cell_type": "code",
   "execution_count": 5,
   "metadata": {},
   "outputs": [],
   "source": [
    "from __future__ import print_function\n",
    "import os\n",
    "import json\n",
    "import re\n",
    "import sys\n",
    "import pandas\n",
    "import subprocess\n",
    "from subprocess import check_output\n",
    "\n",
    "#import yaml\n",
    "from datetime import datetime, timedelta\n",
    "\n",
    "from dateutil.parser import parse\n",
    "import pytz\n",
    "\n",
    "utc=pytz.UTC"
   ]
  },
  {
   "cell_type": "code",
   "execution_count": 6,
   "metadata": {},
   "outputs": [],
   "source": [
    "from datetime import datetime, timedelta\n",
    "from time import sleep\n",
    "from subprocess import check_output\n",
    "try:\n",
    "    from urllib import urlopen\n",
    "except:\n",
    "    from urllib.request import urlopen\n",
    "\n",
    "import ssl\n",
    "#import yaml\n",
    "\n",
    "context = ssl._create_unverified_context()"
   ]
  },
  {
   "cell_type": "markdown",
   "metadata": {},
   "source": [
    "with open('../packages.yml') as package_file:\n",
    "    packages = yaml.load(package_file)"
   ]
  },
  {
   "cell_type": "code",
   "execution_count": 7,
   "metadata": {},
   "outputs": [],
   "source": [
    "CWD = os.path.abspath(os.path.curdir)"
   ]
  },
  {
   "cell_type": "code",
   "execution_count": 8,
   "metadata": {},
   "outputs": [
    {
     "data": {
      "text/plain": [
       "'/home/serge/Dropbox/p/pysal/src/pysal/tools'"
      ]
     },
     "execution_count": 8,
     "metadata": {},
     "output_type": "execute_result"
    }
   ],
   "source": [
    "CWD"
   ]
  },
  {
   "cell_type": "markdown",
   "metadata": {},
   "source": [
    "Our last main release was `2019-01-30`:"
   ]
  },
  {
   "cell_type": "code",
   "execution_count": 9,
   "metadata": {},
   "outputs": [
    {
     "data": {
      "text/plain": [
       "datetime.datetime(2019, 7, 29, 0, 0)"
      ]
     },
     "execution_count": 9,
     "metadata": {},
     "output_type": "execute_result"
    }
   ],
   "source": [
    "start_date = '2019-07-29'\n",
    "since_date = '--since=\"{start}\"'.format(start=start_date)\n",
    "since_date\n",
    "since = datetime.strptime(start_date+\" 0:0:0\", \"%Y-%m-%d %H:%M:%S\")\n",
    "since"
   ]
  },
  {
   "cell_type": "code",
   "execution_count": 11,
   "metadata": {},
   "outputs": [],
   "source": [
    "with open('package_versions.txt', 'r') as package_list:\n",
    "    packages = dict([line.strip().split() for line in package_list.readlines()])"
   ]
  },
  {
   "cell_type": "code",
   "execution_count": 23,
   "metadata": {},
   "outputs": [],
   "source": [
    "import pickle\n",
    "issue_details = pickle.load( open( \"issue_details.p\", \"rb\" ) )\n",
    "pull_details = pickle.load( open( \"pull_details.p\", \"rb\" ) )\n"
   ]
  },
  {
   "cell_type": "code",
   "execution_count": 24,
   "metadata": {},
   "outputs": [
    {
     "data": {
      "text/plain": [
       "{'libpysal': '4.2.1',\n",
       " 'esda': '2.2.0',\n",
       " 'giddy': '2.3.0',\n",
       " 'inequality': '1.0.0',\n",
       " 'pointpats': '2.1.0',\n",
       " 'segregation': '1.1.1',\n",
       " 'spaghetti': '1.4.0',\n",
       " 'mgwr': '2.1.1',\n",
       " 'spglm': '1.0.7',\n",
       " 'spint': '1.0.6',\n",
       " 'spreg': '1.0.4',\n",
       " 'spvcm': '0.2.1.post1',\n",
       " 'tobler': '0.2.0',\n",
       " 'mapclassify': '2.2.0',\n",
       " 'splot': '1.1.2'}"
      ]
     },
     "execution_count": 24,
     "metadata": {},
     "output_type": "execute_result"
    }
   ],
   "source": [
    "packages"
   ]
  },
  {
   "cell_type": "markdown",
   "metadata": {},
   "source": [
    "# get dates of tags\n",
    "with open('subtags', 'r') as tag_name:\n",
    "        tags = tag_name.readlines()\n"
   ]
  },
  {
   "cell_type": "code",
   "execution_count": 25,
   "metadata": {},
   "outputs": [
    {
     "name": "stdout",
     "output_type": "stream",
     "text": [
      "libpysal 4.2.1\n",
      "libpysal 4.2.1 2020-01-04\n",
      "esda 2.2.0\n",
      "esda 2.2.0 2019-12-18\n",
      "giddy 2.3.0\n",
      "giddy 2.3.0 2019-12-20\n",
      "inequality 1.0.0\n",
      "inequality 1.0.0 2018-10-31\n",
      "pointpats 2.1.0\n",
      "pointpats 2.1.0 2019-07-01\n",
      "segregation 1.1.1\n",
      "segregation 1.1.1 2019-07-19\n",
      "spaghetti 1.4.0\n",
      "spaghetti 1.4.0 2019-12-31\n",
      "mgwr 2.1.1\n",
      "mgwr 2.1.1 2019-07-18\n",
      "spglm 1.0.7\n",
      "spglm 1.0.7 2019-07-18\n",
      "spint 1.0.6\n",
      "spint 1.0.6 2019-07-22\n",
      "spreg 1.0.4\n",
      "spreg 1.0.4 2018-08-24\n",
      "spvcm 0.2.1.post1\n",
      "spvcm 0.2.1post1 2019-01-04\n",
      "tobler 0.2.0\n",
      "tobler 0.2.0 2020-01-05\n",
      "mapclassify 2.2.0\n",
      "mapclassify 2.2.0 2020-01-02\n",
      "splot 1.1.2\n",
      "splot 1.1.2 2020-01-18\n"
     ]
    }
   ],
   "source": [
    "tag_dates = {}\n",
    "#root = '/home/serge/Dropbox/p/pysal/src/pysal/tmp/'\n",
    "root = CWD + \"/tmp/\"\n",
    "#for record in tags:\n",
    "for pkg in packages:\n",
    "    #pkg, tag = record.strip().split()\n",
    "    tag = packages[pkg]\n",
    "    print(pkg, tag)\n",
    "    if pkg=='spvcm':\n",
    "        tag = '0.2.1post1'\n",
    "    \n",
    "    #tag = tag.split('/')[-1]\n",
    "    pkdir = root+pkg\n",
    "    try:\n",
    "        cmd = \"git log -1 --format=%ai v{tag}\".format(tag=tag)\n",
    "        os.chdir(pkdir)\n",
    "        result = subprocess.run(cmd, check=True, shell=True, stdout=subprocess.PIPE)\n",
    "    except:\n",
    "        cmd = \"git log -1 --format=%ai {tag}\".format(tag=tag)\n",
    "        os.chdir(pkdir)\n",
    "        result = subprocess.run(cmd, check=True, shell=True, stdout=subprocess.PIPE)\n",
    "    tag_string = result.stdout.decode('utf-8')\n",
    "    tag_date = tag_string.split()[0]\n",
    "    tag_dates[pkg] = tag_date\n",
    "    print(pkg, tag, tag_date)\n",
    "\n",
    "os.chdir(CWD)\n",
    "\n",
    "    "
   ]
  },
  {
   "cell_type": "code",
   "execution_count": 26,
   "metadata": {},
   "outputs": [
    {
     "name": "stdout",
     "output_type": "stream",
     "text": [
      "libpysal 61 43\n",
      "libpysal 35 24\n",
      "esda 12 8\n",
      "esda 8 4\n",
      "giddy 17 10\n",
      "giddy 12 7\n",
      "inequality 1 0\n",
      "inequality 1 0\n",
      "pointpats 6 0\n",
      "pointpats 6 0\n",
      "segregation 22 0\n",
      "segregation 11 0\n",
      "spaghetti 92 42\n",
      "spaghetti 57 25\n",
      "mgwr 1 0\n",
      "mgwr 1 0\n",
      "spglm 1 0\n",
      "spglm 1 0\n",
      "spint 1 0\n",
      "spint 1 0\n",
      "spreg 4 0\n",
      "spreg 3 0\n",
      "spvcm 1 0\n",
      "spvcm 1 0\n",
      "tobler 43 38\n",
      "tobler 34 29\n",
      "mapclassify 12 11\n",
      "mapclassify 9 8\n",
      "splot 17 11\n",
      "splot 11 8\n"
     ]
    }
   ],
   "source": [
    "# get issues for a package and filter on tag date\n",
    "\n",
    "\n",
    "for pkg in tag_dates.keys():\n",
    "    issues = issue_details[pkg]\n",
    "    tag_date = utc.localize(parse(tag_dates[pkg]))\n",
    "    keep = []\n",
    "    for issue in issues:\n",
    "        closed = parse(issue['closed_at'])\n",
    "        if closed <= tag_date:\n",
    "            keep.append(issue)\n",
    "    print(pkg, len(issues), len(keep))\n",
    "    issue_details[pkg] = keep\n",
    "    keep = []\n",
    "    pulls = pull_details[pkg]\n",
    "    for pull in pulls:\n",
    "        closed = parse(pull['closed_at'])\n",
    "        if closed <= tag_date:\n",
    "            keep.append(pull)\n",
    "    print(pkg, len(pulls), len(keep)) \n",
    "    pull_details[pkg] = keep\n",
    "        \n",
    "  "
   ]
  },
  {
   "cell_type": "code",
   "execution_count": 28,
   "metadata": {},
   "outputs": [
    {
     "name": "stdout",
     "output_type": "stream",
     "text": [
      "libpysal 170 170 2020-01-04\n",
      "esda 21 18 2019-12-18\n",
      "giddy 31 28 2019-12-20\n",
      "inequality 0 0 2018-10-31\n",
      "pointpats 0 0 2019-07-01\n",
      "segregation 0 0 2019-07-19\n",
      "spaghetti 172 154 2019-12-31\n",
      "mgwr 0 0 2019-07-18\n",
      "spglm 0 0 2019-07-18\n",
      "spint 0 0 2019-07-22\n",
      "spreg 0 0 2018-08-24\n",
      "spvcm 0 0 2019-01-04\n",
      "tobler 178 170 2020-01-05\n",
      "mapclassify 32 31 2020-01-02\n",
      "splot 42 36 2020-01-18\n"
     ]
    }
   ],
   "source": [
    "# commits\n",
    "cmd = ['git', 'log', '--oneline', since_date]\n",
    "\n",
    "activity = {}\n",
    "total_commits = 0\n",
    "for subpackage in packages:\n",
    "    tag_date = tag_dates[subpackage]\n",
    "    os.chdir(CWD)\n",
    "    os.chdir('tmp/{subpackage}'.format(subpackage=subpackage))\n",
    "    cmd_until = cmd + ['--until=\"{tag_date}\"'.format(tag_date=tag_date)]\n",
    "    ncommits = len(check_output(cmd_until).splitlines())\n",
    "    ncommits_total = len(check_output(cmd).splitlines())\n",
    "    print(subpackage, ncommits_total, ncommits, tag_date)\n",
    "    total_commits += ncommits\n",
    "    activity[subpackage] = ncommits"
   ]
  },
  {
   "cell_type": "code",
   "execution_count": 29,
   "metadata": {},
   "outputs": [
    {
     "data": {
      "text/plain": [
       "['git', 'log', '--oneline', '--since=\"2019-07-29\"', '--until=\"2020-01-18\"']"
      ]
     },
     "execution_count": 29,
     "metadata": {},
     "output_type": "execute_result"
    }
   ],
   "source": [
    "cmd_until"
   ]
  },
  {
   "cell_type": "code",
   "execution_count": 30,
   "metadata": {},
   "outputs": [],
   "source": [
    "identities = {'Levi John Wolf': ('ljwolf', 'Levi John Wolf'),\n",
    "              'Serge Rey': ('Serge Rey', 'Sergio Rey', 'sjsrey', 'serge'),\n",
    "              'Wei Kang': ('Wei Kang', 'weikang9009'),\n",
    "              'Dani Arribas-Bel': ('Dani Arribas-Bel', 'darribas'),\n",
    "              'Antti Härkönen': ( 'antth', 'Antti Härkönen', 'Antti Härkönen', 'Antth'  ),\n",
    "              'Juan C Duque': ('Juan C Duque', \"Juan Duque\"),\n",
    "              'Renan Xavier Cortes': ('Renan Xavier Cortes', 'renanxcortes', 'Renan Xavier Cortes'   ),\n",
    "              'Taylor Oshan': ('Tayloroshan', 'Taylor Oshan', 'TaylorOshan'),\n",
    "              'Tom Gertin': ('@Tomgertin', 'Tom Gertin', '@tomgertin')\n",
    "}\n",
    "\n",
    "def regularize_identity(string):\n",
    "    string = string.decode()\n",
    "    for name, aliases in identities.items():\n",
    "        for alias in aliases:\n",
    "            if alias in string:\n",
    "                string = string.replace(alias, name)\n",
    "    if len(string.split(' '))>1:\n",
    "        string = string.title()\n",
    "    return string.lstrip('* ')"
   ]
  },
  {
   "cell_type": "code",
   "execution_count": 31,
   "metadata": {},
   "outputs": [],
   "source": [
    "author_cmd = ['git', 'log', '--format=* %aN', since_date]"
   ]
  },
  {
   "cell_type": "code",
   "execution_count": 32,
   "metadata": {},
   "outputs": [],
   "source": [
    "author_cmd.append('blank')"
   ]
  },
  {
   "cell_type": "code",
   "execution_count": 33,
   "metadata": {},
   "outputs": [
    {
     "data": {
      "text/plain": [
       "['git', 'log', '--format=* %aN', '--since=\"2019-07-29\"', 'blank']"
      ]
     },
     "execution_count": 33,
     "metadata": {},
     "output_type": "execute_result"
    }
   ],
   "source": [
    "author_cmd"
   ]
  },
  {
   "cell_type": "code",
   "execution_count": 34,
   "metadata": {},
   "outputs": [],
   "source": [
    "from collections import Counter"
   ]
  },
  {
   "cell_type": "code",
   "execution_count": 35,
   "metadata": {},
   "outputs": [],
   "source": [
    "authors_global = set()\n",
    "authors = {}\n",
    "global_counter = Counter()\n",
    "counters = dict()\n",
    "cmd = ['git', 'log', '--oneline', since_date]\n",
    "total_commits = 0\n",
    "activity = {}\n",
    "for subpackage in packages:\n",
    "    os.chdir(CWD)\n",
    "    os.chdir('tmp/{subpackage}'.format(subpackage=subpackage))\n",
    "    ncommits = len(check_output(cmd).splitlines())\n",
    "\n",
    "\n",
    "    tag_date = tag_dates[subpackage]\n",
    "    author_cmd[-1] = '--until=\"{tag_date}\"'.format(tag_date=tag_date)\n",
    "    #cmd_until = cmd + ['--until=\"{tag_date}\"'.format(tag_date=tag_date)]\n",
    "\n",
    "\n",
    "    all_authors = check_output(author_cmd).splitlines()\n",
    "    counter = Counter([regularize_identity(author) for author in all_authors])\n",
    "    global_counter += counter\n",
    "    counters.update({'.'.join((package,subpackage)): counter})\n",
    "    unique_authors = sorted(set(all_authors))\n",
    "    authors[subpackage] =  unique_authors\n",
    "    authors_global.update(unique_authors)\n",
    "    total_commits += ncommits\n",
    "    activity[subpackage] = ncommits"
   ]
  },
  {
   "cell_type": "code",
   "execution_count": 36,
   "metadata": {},
   "outputs": [
    {
     "data": {
      "text/plain": [
       "{b'* James Gaboardi',\n",
       " b'* Leonardo Uieda',\n",
       " b'* Levi John Wolf',\n",
       " b'* Martin Fleischmann',\n",
       " b'* Renan Xavier Cortes',\n",
       " b'* Serge Rey',\n",
       " b'* Sergio Rey',\n",
       " b'* Siddharths8212376',\n",
       " b'* Stefanie Lumnitz',\n",
       " b'* Wei Kang',\n",
       " b'* eli knaap',\n",
       " b'* ljwolf',\n",
       " b'* rahul799',\n",
       " b'* renanxcortes',\n",
       " b'* weikang9009'}"
      ]
     },
     "execution_count": 36,
     "metadata": {},
     "output_type": "execute_result"
    }
   ],
   "source": [
    "authors_global"
   ]
  },
  {
   "cell_type": "code",
   "execution_count": 37,
   "metadata": {},
   "outputs": [
    {
     "data": {
      "text/plain": [
       "{'libpysal': 170,\n",
       " 'esda': 21,\n",
       " 'giddy': 31,\n",
       " 'inequality': 0,\n",
       " 'pointpats': 0,\n",
       " 'segregation': 0,\n",
       " 'spaghetti': 172,\n",
       " 'mgwr': 0,\n",
       " 'spglm': 0,\n",
       " 'spint': 0,\n",
       " 'spreg': 0,\n",
       " 'spvcm': 0,\n",
       " 'tobler': 178,\n",
       " 'mapclassify': 32,\n",
       " 'splot': 42}"
      ]
     },
     "execution_count": 37,
     "metadata": {},
     "output_type": "execute_result"
    }
   ],
   "source": [
    "activity"
   ]
  },
  {
   "cell_type": "code",
   "execution_count": 38,
   "metadata": {},
   "outputs": [
    {
     "data": {
      "text/plain": [
       "{'libpysal.libpysal': Counter({'Serge Rey': 116,\n",
       "          'James Gaboardi': 43,\n",
       "          'Levi John Wolf': 3,\n",
       "          'Wei Kang': 6,\n",
       "          'Siddharths8212376': 2}),\n",
       " 'libpysal.esda': Counter({'Serge Rey': 5,\n",
       "          'Levi John Wolf': 3,\n",
       "          'James Gaboardi': 9,\n",
       "          'Wei Kang': 1}),\n",
       " 'libpysal.giddy': Counter({'Wei Kang': 23,\n",
       "          'James Gaboardi': 3,\n",
       "          'Serge Rey': 2}),\n",
       " 'libpysal.inequality': Counter(),\n",
       " 'libpysal.pointpats': Counter(),\n",
       " 'libpysal.segregation': Counter(),\n",
       " 'libpysal.spaghetti': Counter({'James Gaboardi': 152, 'Rahul799': 2}),\n",
       " 'libpysal.mgwr': Counter(),\n",
       " 'libpysal.spglm': Counter(),\n",
       " 'libpysal.spint': Counter(),\n",
       " 'libpysal.spreg': Counter(),\n",
       " 'libpysal.spvcm': Counter(),\n",
       " 'libpysal.tobler': Counter({'Eli Knaap': 98,\n",
       "          'Serge Rey': 31,\n",
       "          'Renan Xavier Cortes': 41}),\n",
       " 'libpysal.mapclassify': Counter({'Serge Rey': 21,\n",
       "          'James Gaboardi': 3,\n",
       "          'Wei Kang': 4,\n",
       "          'Martin Fleischmann': 3}),\n",
       " 'libpysal.splot': Counter({'Stefanie Lumnitz': 24,\n",
       "          'Serge Rey': 1,\n",
       "          'James Gaboardi': 7,\n",
       "          'Martin Fleischmann': 1,\n",
       "          'Leonardo Uieda': 1,\n",
       "          'Levi John Wolf': 1,\n",
       "          'Wei Kang': 1})}"
      ]
     },
     "execution_count": 38,
     "metadata": {},
     "output_type": "execute_result"
    }
   ],
   "source": [
    "counters"
   ]
  },
  {
   "cell_type": "code",
   "execution_count": 39,
   "metadata": {},
   "outputs": [
    {
     "data": {
      "text/plain": [
       "{'libpysal.libpysal': Counter({'Serge Rey': 116,\n",
       "          'James Gaboardi': 43,\n",
       "          'Levi John Wolf': 3,\n",
       "          'Wei Kang': 6,\n",
       "          'Siddharths8212376': 2}),\n",
       " 'libpysal.esda': Counter({'Serge Rey': 5,\n",
       "          'Levi John Wolf': 3,\n",
       "          'James Gaboardi': 9,\n",
       "          'Wei Kang': 1}),\n",
       " 'libpysal.giddy': Counter({'Wei Kang': 23,\n",
       "          'James Gaboardi': 3,\n",
       "          'Serge Rey': 2}),\n",
       " 'libpysal.inequality': Counter(),\n",
       " 'libpysal.pointpats': Counter(),\n",
       " 'libpysal.segregation': Counter(),\n",
       " 'libpysal.spaghetti': Counter({'James Gaboardi': 152, 'Rahul799': 2}),\n",
       " 'libpysal.mgwr': Counter(),\n",
       " 'libpysal.spglm': Counter(),\n",
       " 'libpysal.spint': Counter(),\n",
       " 'libpysal.spreg': Counter(),\n",
       " 'libpysal.spvcm': Counter(),\n",
       " 'libpysal.tobler': Counter({'Eli Knaap': 98,\n",
       "          'Serge Rey': 31,\n",
       "          'Renan Xavier Cortes': 41}),\n",
       " 'libpysal.mapclassify': Counter({'Serge Rey': 21,\n",
       "          'James Gaboardi': 3,\n",
       "          'Wei Kang': 4,\n",
       "          'Martin Fleischmann': 3}),\n",
       " 'libpysal.splot': Counter({'Stefanie Lumnitz': 24,\n",
       "          'Serge Rey': 1,\n",
       "          'James Gaboardi': 7,\n",
       "          'Martin Fleischmann': 1,\n",
       "          'Leonardo Uieda': 1,\n",
       "          'Levi John Wolf': 1,\n",
       "          'Wei Kang': 1})}"
      ]
     },
     "execution_count": 39,
     "metadata": {},
     "output_type": "execute_result"
    }
   ],
   "source": [
    "counters"
   ]
  },
  {
   "cell_type": "code",
   "execution_count": 40,
   "metadata": {},
   "outputs": [],
   "source": [
    "def get_tag(title, level=\"##\", as_string=True):\n",
    "    words = title.split()\n",
    "    tag = \"-\".join([word.lower() for word in words])\n",
    "    heading = level+\" \"+title\n",
    "    line = \"\\n\\n<a name=\\\"{}\\\"></a>\".format(tag)\n",
    "    lines = [line]\n",
    "    lines.append(heading)\n",
    "    if as_string:\n",
    "        return \"\\n\".join(lines)\n",
    "    else:\n",
    "        return lines"
   ]
  },
  {
   "cell_type": "code",
   "execution_count": 41,
   "metadata": {},
   "outputs": [],
   "source": [
    "subs = issue_details.keys()\n",
    "table = []\n",
    "txt = []\n",
    "lines = get_tag(\"Changes by Package\", as_string=False)\n",
    "\n",
    "for sub in subs:\n",
    "    total= issue_details[sub]\n",
    "    pr = pull_details[sub]\n",
    "    \n",
    "    row = [sub, activity[sub], len(total), len(pr)]\n",
    "    table.append(row)\n",
    "    #line = \"\\n<a name=\\\"{sub}\\\"></a>\".format(sub=sub)\n",
    "    #lines.append(line)\n",
    "    #line = \"### {sub}\".format(sub=sub)\n",
    "    #lines.append(line)\n",
    "    lines.extend(get_tag(sub.lower(), \"###\", as_string=False))\n",
    "    for issue in total:\n",
    "        url = issue['html_url']\n",
    "        title = issue['title']\n",
    "        number = issue['number']\n",
    "        line = \"* [#{number}:]({url}) {title} \".format(title=title,\n",
    "                                                     number=number,\n",
    "                                                     url=url)\n",
    "        lines.append(line)\n",
    "\n"
   ]
  },
  {
   "cell_type": "code",
   "execution_count": 42,
   "metadata": {},
   "outputs": [
    {
     "data": {
      "text/plain": [
       "'* [#82:](https://github.com/pysal/splot/issues/82) `plot_moran_simulation` weird dimensions '"
      ]
     },
     "execution_count": 42,
     "metadata": {},
     "output_type": "execute_result"
    }
   ],
   "source": [
    "line"
   ]
  },
  {
   "cell_type": "code",
   "execution_count": 43,
   "metadata": {},
   "outputs": [
    {
     "data": {
      "text/plain": [
       "[['libpysal', 170, 43, 24],\n",
       " ['esda', 21, 8, 4],\n",
       " ['giddy', 31, 10, 7],\n",
       " ['inequality', 0, 0, 0],\n",
       " ['pointpats', 0, 0, 0],\n",
       " ['segregation', 0, 0, 0],\n",
       " ['spaghetti', 172, 42, 25],\n",
       " ['mgwr', 0, 0, 0],\n",
       " ['spglm', 0, 0, 0],\n",
       " ['spint', 0, 0, 0],\n",
       " ['spreg', 0, 0, 0],\n",
       " ['spvcm', 0, 0, 0],\n",
       " ['tobler', 178, 38, 29],\n",
       " ['mapclassify', 32, 11, 8],\n",
       " ['splot', 42, 11, 8]]"
      ]
     },
     "execution_count": 43,
     "metadata": {},
     "output_type": "execute_result"
    }
   ],
   "source": [
    "table"
   ]
  },
  {
   "cell_type": "code",
   "execution_count": 44,
   "metadata": {},
   "outputs": [],
   "source": [
    "os.chdir(CWD)\n",
    "\n",
    "import pandas"
   ]
  },
  {
   "cell_type": "code",
   "execution_count": 45,
   "metadata": {},
   "outputs": [],
   "source": [
    "df = pandas.DataFrame(table, columns=['package', 'commits', 'total issues', 'pulls'])"
   ]
  },
  {
   "cell_type": "code",
   "execution_count": 46,
   "metadata": {},
   "outputs": [],
   "source": [
    "df.sort_values(['commits','pulls'], ascending=False)\\\n",
    "  .to_html('./commit_table.html', index=None)"
   ]
  },
  {
   "cell_type": "code",
   "execution_count": 47,
   "metadata": {},
   "outputs": [
    {
     "data": {
      "text/plain": [
       "package         libpysalesdagiddyinequalitypointpatssegregatio...\n",
       "commits                                                       646\n",
       "total issues                                                  163\n",
       "pulls                                                         105\n",
       "dtype: object"
      ]
     },
     "execution_count": 47,
     "metadata": {},
     "output_type": "execute_result"
    }
   ],
   "source": [
    "df.sum()"
   ]
  },
  {
   "cell_type": "code",
   "execution_count": 48,
   "metadata": {},
   "outputs": [],
   "source": [
    "contributor_table = pandas.DataFrame.from_dict(counters).fillna(0).astype(int).T"
   ]
  },
  {
   "cell_type": "code",
   "execution_count": 49,
   "metadata": {},
   "outputs": [],
   "source": [
    "contributor_table.to_html('./contributor_table.html')"
   ]
  },
  {
   "cell_type": "code",
   "execution_count": 50,
   "metadata": {},
   "outputs": [
    {
     "data": {
      "text/html": [
       "<div>\n",
       "<style scoped>\n",
       "    .dataframe tbody tr th:only-of-type {\n",
       "        vertical-align: middle;\n",
       "    }\n",
       "\n",
       "    .dataframe tbody tr th {\n",
       "        vertical-align: top;\n",
       "    }\n",
       "\n",
       "    .dataframe thead th {\n",
       "        text-align: right;\n",
       "    }\n",
       "</style>\n",
       "<table border=\"1\" class=\"dataframe\">\n",
       "  <thead>\n",
       "    <tr style=\"text-align: right;\">\n",
       "      <th></th>\n",
       "      <th>commits</th>\n",
       "    </tr>\n",
       "  </thead>\n",
       "  <tbody>\n",
       "    <tr>\n",
       "      <th>Eli Knaap</th>\n",
       "      <td>98</td>\n",
       "    </tr>\n",
       "    <tr>\n",
       "      <th>James Gaboardi</th>\n",
       "      <td>217</td>\n",
       "    </tr>\n",
       "    <tr>\n",
       "      <th>Leonardo Uieda</th>\n",
       "      <td>1</td>\n",
       "    </tr>\n",
       "    <tr>\n",
       "      <th>Levi John Wolf</th>\n",
       "      <td>7</td>\n",
       "    </tr>\n",
       "    <tr>\n",
       "      <th>Martin Fleischmann</th>\n",
       "      <td>4</td>\n",
       "    </tr>\n",
       "    <tr>\n",
       "      <th>Rahul799</th>\n",
       "      <td>2</td>\n",
       "    </tr>\n",
       "    <tr>\n",
       "      <th>Renan Xavier Cortes</th>\n",
       "      <td>41</td>\n",
       "    </tr>\n",
       "    <tr>\n",
       "      <th>Serge Rey</th>\n",
       "      <td>176</td>\n",
       "    </tr>\n",
       "    <tr>\n",
       "      <th>Siddharths8212376</th>\n",
       "      <td>2</td>\n",
       "    </tr>\n",
       "    <tr>\n",
       "      <th>Stefanie Lumnitz</th>\n",
       "      <td>24</td>\n",
       "    </tr>\n",
       "    <tr>\n",
       "      <th>Wei Kang</th>\n",
       "      <td>35</td>\n",
       "    </tr>\n",
       "  </tbody>\n",
       "</table>\n",
       "</div>"
      ],
      "text/plain": [
       "                     commits\n",
       "Eli Knaap                 98\n",
       "James Gaboardi           217\n",
       "Leonardo Uieda             1\n",
       "Levi John Wolf             7\n",
       "Martin Fleischmann         4\n",
       "Rahul799                   2\n",
       "Renan Xavier Cortes       41\n",
       "Serge Rey                176\n",
       "Siddharths8212376          2\n",
       "Stefanie Lumnitz          24\n",
       "Wei Kang                  35"
      ]
     },
     "execution_count": 50,
     "metadata": {},
     "output_type": "execute_result"
    }
   ],
   "source": [
    "totals = contributor_table.sum(axis=0).T\n",
    "totals.sort_index().to_frame('commits')"
   ]
  },
  {
   "cell_type": "code",
   "execution_count": 51,
   "metadata": {},
   "outputs": [],
   "source": [
    "totals = contributor_table.sum(axis=0).T\n",
    "totals.sort_index().to_frame('commits').to_html('./commits_by_person.html')"
   ]
  },
  {
   "cell_type": "code",
   "execution_count": 52,
   "metadata": {},
   "outputs": [
    {
     "data": {
      "text/plain": [
       "Serge Rey              176\n",
       "James Gaboardi         217\n",
       "Levi John Wolf           7\n",
       "Wei Kang                35\n",
       "Siddharths8212376        2\n",
       "Rahul799                 2\n",
       "Eli Knaap               98\n",
       "Renan Xavier Cortes     41\n",
       "Martin Fleischmann       4\n",
       "Stefanie Lumnitz        24\n",
       "Leonardo Uieda           1\n",
       "dtype: int64"
      ]
     },
     "execution_count": 52,
     "metadata": {},
     "output_type": "execute_result"
    }
   ],
   "source": [
    "totals"
   ]
  },
  {
   "cell_type": "code",
   "execution_count": 53,
   "metadata": {},
   "outputs": [],
   "source": [
    "n_commits = df.commits.sum()\n",
    "n_issues = df['total issues'].sum()\n",
    "n_pulls = df.pulls.sum()"
   ]
  },
  {
   "cell_type": "code",
   "execution_count": 54,
   "metadata": {},
   "outputs": [
    {
     "data": {
      "text/plain": [
       "646"
      ]
     },
     "execution_count": 54,
     "metadata": {},
     "output_type": "execute_result"
    }
   ],
   "source": [
    "n_commits"
   ]
  },
  {
   "cell_type": "code",
   "execution_count": 55,
   "metadata": {},
   "outputs": [],
   "source": [
    "#Overall, there were 719 commits that closed 240 issues, together with 105 pull requests across 12 packages since our last release on 2017-11-03.\n",
    "#('{0} Here is a really long '\n",
    "#           'sentence with {1}').format(3, 5))\n",
    "line = ('Overall, there were {n_commits} commits that closed {n_issues} issues,'  \n",
    "    ' together with {n_pulls} pull requests since our last release' \n",
    "        ' on {since_date}.\\n'.format(n_commits=n_commits, n_issues=n_issues,\n",
    "        n_pulls=n_pulls, since_date = start_date))"
   ]
  },
  {
   "cell_type": "code",
   "execution_count": 56,
   "metadata": {},
   "outputs": [
    {
     "data": {
      "text/plain": [
       "'Overall, there were 646 commits that closed 163 issues, together with 105 pull requests since our last release on 2019-07-29.\\n'"
      ]
     },
     "execution_count": 56,
     "metadata": {},
     "output_type": "execute_result"
    }
   ],
   "source": [
    "line"
   ]
  },
  {
   "cell_type": "markdown",
   "metadata": {},
   "source": [
    "## append html files to end of changes.md with tags for toc"
   ]
  },
  {
   "cell_type": "code",
   "execution_count": 57,
   "metadata": {},
   "outputs": [],
   "source": [
    "with open('changes.md', 'w') as fout:\n",
    "    fout.write(line)\n",
    "    fout.write(\"\\n\".join(lines))\n",
    "    fout.write(get_tag(\"Summary Statistics\"))\n",
    "    \n",
    "    with open('commit_table.html') as table:\n",
    "        table_lines = table.readlines()\n",
    "        title = \"Package Activity\"\n",
    "        fout.write(get_tag(title,\"###\"))\n",
    "        fout.write(\"\\n\")\n",
    "        fout.write(\"\".join(table_lines))\n",
    "                \n",
    "    with open('commits_by_person.html') as table:\n",
    "        table_lines = table.readlines()\n",
    "        title = \"Contributor Activity\"\n",
    "        fout.write(get_tag(title,\"###\"))\n",
    "        fout.write(\"\\n\")\n",
    "        fout.write(\"\".join(table_lines))\n",
    "        \n",
    "    with open('contributor_table.html') as table:\n",
    "        table_lines = table.readlines()\n",
    "        title = \"Contributor by Package Activity\"\n",
    "        fout.write(get_tag(title,\"###\"))\n",
    "        fout.write(\"\\n\")\n",
    "        fout.write(\"\".join(table_lines))"
   ]
  },
  {
   "cell_type": "code",
   "execution_count": null,
   "metadata": {},
   "outputs": [],
   "source": []
  },
  {
   "cell_type": "code",
   "execution_count": null,
   "metadata": {},
   "outputs": [],
   "source": []
  },
  {
   "cell_type": "code",
   "execution_count": null,
   "metadata": {},
   "outputs": [],
   "source": []
  }
 ],
 "metadata": {
  "kernelspec": {
   "display_name": "Python 3",
   "language": "python",
   "name": "python3"
  },
  "language_info": {
   "codemirror_mode": {
    "name": "ipython",
    "version": 3
   },
   "file_extension": ".py",
   "mimetype": "text/x-python",
   "name": "python",
   "nbconvert_exporter": "python",
   "pygments_lexer": "ipython3",
   "version": "3.6.7"
  }
 },
 "nbformat": 4,
 "nbformat_minor": 2
}
